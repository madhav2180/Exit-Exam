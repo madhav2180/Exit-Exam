{
 "cells": [
  {
   "cell_type": "markdown",
   "id": "ba24390a-bb84-4a73-a3b8-39bfcf335cb3",
   "metadata": {},
   "source": [
    "# Genpact Machine Learning Hackathon\n",
    "Your client is a meal delivery company which operates in multiple cities. They have various fulfillment centers in these cities for dispatching meal orders to their customers. The client wants you to help these centers with demand forecasting for upcoming weeks so that these centers will plan the stock of raw materials accordingly.\n",
    "\n",
    "The replenishment of majority of raw materials is done on weekly basis and since the raw material is perishable, the procurement planning is of utmost importance. Secondly, staffing of the centers is also one area wherein accurate demand forecasts are really helpful. Given the following information, the task is to predict the demand for the next 10 weeks (Weeks: 146-155) for the center-meal combinations in the test set:\n",
    "\n",
    "Historical data of demand for a product-center combination (Weeks: 1 to 145) Product(Meal) features such as category, sub-category, current price and discount Information for fulfillment center like center area, city information etc."
   ]
  },
  {
   "cell_type": "code",
   "execution_count": 231,
   "id": "de6b8f99-f555-41ef-94a1-ad523ae2e145",
   "metadata": {},
   "outputs": [],
   "source": [
    "import pandas as pd\n",
    "import numpy as np\n",
    "import matplotlib.pyplot as plt\n",
    "import seaborn as sns\n",
    "from sklearn.model_selection import train_test_split\n",
    "from sklearn.preprocessing import LabelEncoder,OrdinalEncoder\n",
    "from sklearn.preprocessing import StandardScaler,MinMaxScaler\n",
    "from sklearn.preprocessing import PolynomialFeatures\n",
    "from sklearn.linear_model import LinearRegression"
   ]
  },
  {
   "cell_type": "code",
   "execution_count": 232,
   "id": "7eae0475-b7f9-40aa-bf46-139823e16d4c",
   "metadata": {},
   "outputs": [],
   "source": [
    "df_train = pd.read_csv('train1.csv')\n",
    "df_test = pd.read_csv('test1.csv')"
   ]
  },
  {
   "cell_type": "code",
   "execution_count": null,
   "id": "eb1cc0c4-c152-4c4d-82f6-2a0e1854491a",
   "metadata": {},
   "outputs": [],
   "source": [
    "m_info = pd.read_csv('meal_info.csv')\n",
    "f_center = pd.read_csv('fulfilment_center_info.csv')"
   ]
  },
  {
   "cell_type": "code",
   "execution_count": null,
   "id": "b11db80d-f335-4e47-abed-3b75d2d03634",
   "metadata": {},
   "outputs": [],
   "source": [
    "import pandas as pd  \n",
    "\n",
    "# Load the CSV files into DataFrames  \n",
    "df1 = pd.read_csv('train1.csv')  \n",
    "df2 = pd.read_csv('meal_info.csv')  \n",
    "\n",
    "# Use the join method (assuming index-based joining)  \n",
    "df_train = df1.join(df2, lsuffix='_df1', rsuffix='_df2', how='inner')  # Adjust the 'how' parameter as needed  \n"
   ]
  },
  {
   "cell_type": "code",
   "execution_count": null,
   "id": "c737df9b-1f64-4372-acd1-4749e2f4cb20",
   "metadata": {},
   "outputs": [],
   "source": [
    "import pandas as pd  \n",
    "\n",
    "# Load the CSV files into DataFrames  \n",
    "df1 = pd.read_csv('train1.csv')  \n",
    "df2 = pd.read_csv('fulfilment_center_info.csv')  \n",
    "\n",
    "# Use the join method (assuming index-based joining)  \n",
    "df_train = df1.join(df2, lsuffix='_df1', rsuffix='_df2', how='inner')  # Adjust the 'how' parameter as needed  \n"
   ]
  },
  {
   "cell_type": "code",
   "execution_count": null,
   "id": "f212dac3-151d-4762-8a32-9ddf197e94b3",
   "metadata": {},
   "outputs": [],
   "source": [
    "df_train"
   ]
  },
  {
   "cell_type": "code",
   "execution_count": null,
   "id": "32fa66e9-6a55-4779-99fa-939aebcf69aa",
   "metadata": {},
   "outputs": [],
   "source": [
    "import pandas as pd  \n",
    "\n",
    "# Load the CSV files into DataFrames  \n",
    "df1 = pd.read_csv('test1.csv')  \n",
    "df2 = pd.read_csv('meal_info.csv')  \n",
    "\n",
    "# Use the join method (assuming index-based joining)  \n",
    "df_test = df1.join(df2, lsuffix='_df1', rsuffix='_df2', how='inner') \n"
   ]
  },
  {
   "cell_type": "code",
   "execution_count": null,
   "id": "b8a8319c-be05-4697-89bd-f3bc4c7d5530",
   "metadata": {},
   "outputs": [],
   "source": [
    "import pandas as pd  \n",
    "\n",
    "# Load the CSV files into DataFrames  \n",
    "df1 = pd.read_csv('test1.csv')  \n",
    "df2 = pd.read_csv('fulfilment_center_info.csv')  \n",
    "\n",
    "# Use the join method (assuming index-based joining)  \n",
    "df_test = df1.join(df2, lsuffix='_df1', rsuffix='_df2', how='inner')  "
   ]
  },
  {
   "cell_type": "code",
   "execution_count": null,
   "id": "150de58b-5cfb-4d26-a4ef-c939e0f0223b",
   "metadata": {},
   "outputs": [],
   "source": [
    "df_test"
   ]
  },
  {
   "cell_type": "code",
   "execution_count": null,
   "id": "fbbcdf87-ed88-4c92-98fd-32a9cd61e534",
   "metadata": {},
   "outputs": [],
   "source": [
    "df_train.shape"
   ]
  },
  {
   "cell_type": "code",
   "execution_count": null,
   "id": "040ea020-d418-4989-91ea-8691e9269c71",
   "metadata": {},
   "outputs": [],
   "source": [
    "df_test.shape"
   ]
  },
  {
   "cell_type": "code",
   "execution_count": null,
   "id": "1dd79bab-7ec5-43c6-8ea5-820580d416c3",
   "metadata": {},
   "outputs": [],
   "source": [
    "df_train.info()"
   ]
  },
  {
   "cell_type": "code",
   "execution_count": null,
   "id": "8b53e984-0037-4119-84d3-379e6f0aa217",
   "metadata": {},
   "outputs": [],
   "source": [
    "df_test.info()"
   ]
  },
  {
   "cell_type": "code",
   "execution_count": null,
   "id": "f3259788-224e-4c58-b6b8-1561e82c1180",
   "metadata": {},
   "outputs": [],
   "source": [
    "# Checking Duplicated Rows"
   ]
  },
  {
   "cell_type": "code",
   "execution_count": null,
   "id": "9ea69a03-bfdc-46c2-a2d6-f75262ff043f",
   "metadata": {},
   "outputs": [],
   "source": [
    "df_train.duplicated().sum()"
   ]
  },
  {
   "cell_type": "code",
   "execution_count": null,
   "id": "2ae035a0-2784-4500-a3ce-f7d81346283a",
   "metadata": {},
   "outputs": [],
   "source": [
    "df_test.duplicated().sum()"
   ]
  },
  {
   "cell_type": "code",
   "execution_count": null,
   "id": "0a910218-fc2d-4555-b854-6f6922678245",
   "metadata": {},
   "outputs": [],
   "source": [
    "# Checking missing values"
   ]
  },
  {
   "cell_type": "code",
   "execution_count": null,
   "id": "011a2155-3f18-40f3-81a4-5e01bda65369",
   "metadata": {},
   "outputs": [],
   "source": [
    "df_train.isna().sum()"
   ]
  },
  {
   "cell_type": "code",
   "execution_count": null,
   "id": "e2814fc3-06e9-4d33-bf62-977df17afc2c",
   "metadata": {},
   "outputs": [],
   "source": [
    "df_test.isna().sum()"
   ]
  },
  {
   "cell_type": "code",
   "execution_count": null,
   "id": "daf6d28e-afb9-44be-b4f9-1811f89f76c7",
   "metadata": {},
   "outputs": [],
   "source": [
    "# No duplicate rows and no missing values were found"
   ]
  },
  {
   "cell_type": "code",
   "execution_count": null,
   "id": "d29b8528-c1c5-44fa-9107-7012c951178e",
   "metadata": {},
   "outputs": [],
   "source": [
    "df_train = df_train.drop(['id'],axis=1)\n",
    "df_test = df_test.drop(['id'],axis=1)"
   ]
  },
  {
   "cell_type": "code",
   "execution_count": null,
   "id": "a5882595-1524-476c-91fb-84a75b0ccfec",
   "metadata": {},
   "outputs": [],
   "source": [
    "num_df = df_train.select_dtypes(include=['number'])\n",
    "cat_df = df_train.select_dtypes(include=['object'])"
   ]
  },
  {
   "cell_type": "code",
   "execution_count": null,
   "id": "38e35f39-d58c-4bf0-8d8a-ce78e4228fa9",
   "metadata": {},
   "outputs": [],
   "source": [
    "num_df_test = df_test.select_dtypes(include=['number'])\n",
    "cat_df_test = df_test.select_dtypes(include=['object'])"
   ]
  },
  {
   "cell_type": "code",
   "execution_count": null,
   "id": "bd455499-b43c-44a6-9451-6ee32ee85594",
   "metadata": {},
   "outputs": [],
   "source": [
    "num_cols = num_df.columns.tolist()\n",
    "cat_cols = cat_df.columns.tolist()\n",
    "print(\"Numerical columns:\",num_cols)\n",
    "print(\"Categorical columns:\",cat_cols)\n",
    "\n",
    "num_cols_test = num_df_test.columns.tolist()\n",
    "cat_cols_test = cat_df_test.columns.tolist()\n",
    "print(\"Numerical columns of test data:\",num_cols_test)\n",
    "print(\"Categorical columns of test data:\",cat_cols_test)"
   ]
  },
  {
   "cell_type": "code",
   "execution_count": null,
   "id": "d36ddf3e-8869-43b4-9ff9-1a67fff8dc3b",
   "metadata": {},
   "outputs": [],
   "source": [
    "df_train.describe()"
   ]
  },
  {
   "cell_type": "code",
   "execution_count": null,
   "id": "7ef3af1e-84f4-476e-a913-b7523c530174",
   "metadata": {},
   "outputs": [],
   "source": [
    "df_test.describe()"
   ]
  },
  {
   "cell_type": "code",
   "execution_count": null,
   "id": "4ad1ae5d-3335-4b6b-a8ec-e14b419c9c61",
   "metadata": {},
   "outputs": [],
   "source": [
    "# for checking correlation of data"
   ]
  },
  {
   "cell_type": "code",
   "execution_count": null,
   "id": "d7eea628-d4cb-465b-ba97-dc94723b08f5",
   "metadata": {},
   "outputs": [],
   "source": [
    "sns.heatmap(num_df.corr(),annot=True)\n",
    "plt.show()"
   ]
  },
  {
   "cell_type": "code",
   "execution_count": null,
   "id": "37e548d9-3201-4a07-8e1c-7810f5ef1146",
   "metadata": {},
   "outputs": [],
   "source": [
    "# for checking skewness of data"
   ]
  },
  {
   "cell_type": "code",
   "execution_count": null,
   "id": "e4b492d8-6973-4dc7-a210-5a90784c1612",
   "metadata": {},
   "outputs": [],
   "source": [
    "for col in num_cols:\n",
    "    plt.hist(num_df[col])\n",
    "    plt.xlabel(col)\n",
    "    plt.ylabel('count')\n",
    "    plt.title('Histogram of {}'.format(col))\n",
    "    plt.show()"
   ]
  },
  {
   "cell_type": "code",
   "execution_count": null,
   "id": "eb957437-eb7e-4bd1-917f-b19ab4b3afe9",
   "metadata": {},
   "outputs": [],
   "source": [
    "# The data is skewed "
   ]
  },
  {
   "cell_type": "code",
   "execution_count": null,
   "id": "f25b7c4b-6878-4036-bd78-e761b3bf1574",
   "metadata": {},
   "outputs": [],
   "source": [
    "df_train = pd.concat([num_df,cat_df],axis=1)\n",
    "df_test = pd.concat([num_df_test,cat_df_test],axis=1)"
   ]
  },
  {
   "cell_type": "code",
   "execution_count": null,
   "id": "a05e3a4e-1175-4405-979a-0fdb6be9045a",
   "metadata": {},
   "outputs": [],
   "source": [
    "df_train.head()"
   ]
  },
  {
   "cell_type": "code",
   "execution_count": null,
   "id": "a116fdca-e293-444c-92ff-5330cfaece96",
   "metadata": {},
   "outputs": [],
   "source": [
    "df_test.head()"
   ]
  },
  {
   "cell_type": "markdown",
   "id": "7105b529-7dab-4bdb-92aa-29ffd4e22d91",
   "metadata": {},
   "source": [
    "# Outlier Handling"
   ]
  },
  {
   "cell_type": "code",
   "execution_count": null,
   "id": "e1b6cc66-c901-4b2e-badc-6285e6e74e4e",
   "metadata": {},
   "outputs": [],
   "source": [
    "num_df.boxplot()\n",
    "plt.xticks(rotation=45)\n",
    "plt.show()"
   ]
  },
  {
   "cell_type": "code",
   "execution_count": null,
   "id": "63990497-bf1f-4a23-aabc-3e4814bb3686",
   "metadata": {},
   "outputs": [],
   "source": [
    "num_df_test.boxplot()\n",
    "plt.xticks(rotation=45)\n",
    "plt.show()"
   ]
  },
  {
   "cell_type": "code",
   "execution_count": null,
   "id": "fd207431-923b-4c48-8fc8-be00a1d5951e",
   "metadata": {},
   "outputs": [],
   "source": [
    "def remove_outliers(df,column_name):\n",
    "    q1 = df[column_name].quantile(0.25)\n",
    "    q3 = df[column_name].quantile(0.75)\n",
    "    iqr = q3-q1\n",
    "    upper_bound = q3+1.5*iqr\n",
    "    lower_bound = q1-1.5*iqr\n",
    "    df[column_name] = df[column_name].clip(upper = upper_bound)\n",
    "    df[column_name] = df[column_name].clip(lower = lower_bound)\n",
    "    return df[column_name]"
   ]
  },
  {
   "cell_type": "code",
   "execution_count": null,
   "id": "76d9eb3b-8bf5-4489-a3f1-1fac0671f174",
   "metadata": {},
   "outputs": [],
   "source": [
    "for col in num_cols:\n",
    "    num_df[col] = remove_outliers(num_df,col)"
   ]
  },
  {
   "cell_type": "code",
   "execution_count": null,
   "id": "42d8225c-f47b-463e-908e-bcac6dbbe9ba",
   "metadata": {},
   "outputs": [],
   "source": [
    "for col in num_cols_test:\n",
    "    num_df_test[col] = remove_outliers(num_df_test,col)"
   ]
  },
  {
   "cell_type": "code",
   "execution_count": null,
   "id": "81423fc9-12c0-46fb-aab5-2291bf13eaf9",
   "metadata": {},
   "outputs": [],
   "source": [
    "num_df.boxplot()\n",
    "plt.xticks(rotation=45)\n",
    "plt.show()"
   ]
  },
  {
   "cell_type": "code",
   "execution_count": null,
   "id": "dd761f6c-6e95-42ae-b6be-36b8e5a58dda",
   "metadata": {},
   "outputs": [],
   "source": [
    "num_df_test.boxplot()\n",
    "plt.xticks(rotation=45)\n",
    "plt.show()"
   ]
  },
  {
   "cell_type": "markdown",
   "id": "2a3c2484-d8d9-4759-999b-52e52f7aec50",
   "metadata": {},
   "source": [
    "# Scaling"
   ]
  },
  {
   "cell_type": "code",
   "execution_count": null,
   "id": "d8f1dcbd-8724-40e9-83cd-e85407772c7e",
   "metadata": {},
   "outputs": [],
   "source": [
    "min_scaler = MinMaxScaler()\n",
    "numerical_col2 = ['week','center_id_df1','center_id_df2','meal_id','checkout_price','base_price','emailer_for_promotion','homepage_featured','num_orders']\n",
    "df_train[numerical_col2] = min_scaler.fit_transform(df_train[numerical_col2])\n",
    "df_train[numerical_col2]"
   ]
  },
  {
   "cell_type": "code",
   "execution_count": null,
   "id": "60cef53a-d194-4687-bf8a-17de5500ec40",
   "metadata": {},
   "outputs": [],
   "source": [
    "min_scaler = MinMaxScaler()\n",
    "numerical_col2 = ['week','meal_id','checkout_price','base_price','emailer_for_promotion','homepage_featured']\n",
    "df_test[numerical_col2] = min_scaler.fit_transform(df_test[numerical_col2])\n",
    "df_test[numerical_col2]"
   ]
  },
  {
   "cell_type": "code",
   "execution_count": null,
   "id": "77f9dd3b-169b-4568-898e-5896d952d5bc",
   "metadata": {},
   "outputs": [],
   "source": [
    "df_train = df_train.drop('center_type', axis=1)"
   ]
  },
  {
   "cell_type": "markdown",
   "id": "a3735f49-924f-4e33-ac1a-4a0d79b696a4",
   "metadata": {},
   "source": [
    "# Train Test Split"
   ]
  },
  {
   "cell_type": "code",
   "execution_count": null,
   "id": "c04bf6d7-aa6e-4586-92d1-fd7703d1fc6f",
   "metadata": {},
   "outputs": [],
   "source": [
    "# Seperating Features and labels\n",
    "X = df_train.drop(['num_orders'],axis =1)\n",
    "y = df_train['num_orders']\n",
    "X_test1 = df_test"
   ]
  },
  {
   "cell_type": "code",
   "execution_count": null,
   "id": "5a780cd3-8763-456f-996e-6dcdf8c7fc3d",
   "metadata": {},
   "outputs": [],
   "source": [
    "# Train test split\n",
    "X_train, X_test, y_train, y_test = train_test_split(X, y, test_size=0.2, random_state= 42)"
   ]
  },
  {
   "cell_type": "markdown",
   "id": "cec4d8f8-21aa-4105-b050-bd9b15d1b0c4",
   "metadata": {},
   "source": [
    "# Model Training"
   ]
  },
  {
   "cell_type": "markdown",
   "id": "674c1fd9-bc6b-46ea-906a-b262d5458e19",
   "metadata": {},
   "source": [
    "## Lasso Regression"
   ]
  },
  {
   "cell_type": "code",
   "execution_count": null,
   "id": "2589b691-8c84-4461-9729-4d8d65e087e3",
   "metadata": {},
   "outputs": [],
   "source": [
    "from sklearn.linear_model import Lasso\n",
    "from sklearn.metrics import mean_absolute_error, mean_squared_error, r2_score\n",
    "\n",
    "model = Lasso(alpha=0.1)\n",
    "model.fit(X, y)\n",
    "y_pred = model.predict(X_test)\n",
    "mse_poly = mean_squared_error(y_test, y_pred)\n",
    "print(f'Mean Squared Error (MSE): {mse_poly:}') "
   ]
  },
  {
   "cell_type": "markdown",
   "id": "47a4985f-4e8b-490e-a6e1-543f7953e343",
   "metadata": {},
   "source": [
    "## Poisson Regression"
   ]
  },
  {
   "cell_type": "code",
   "execution_count": null,
   "id": "23b6abde-1209-4b01-9f03-1c7de49bdf1a",
   "metadata": {},
   "outputs": [],
   "source": [
    "from sklearn.linear_model import PoissonRegressor\n",
    "from sklearn.metrics import mean_absolute_error, mean_squared_error, r2_score\n",
    "model = PoissonRegressor()\n",
    "model.fit(X, y)\n",
    "y_pred = model.predict(X_test)\n",
    "mse_poly = mean_squared_error(y_test, y_pred)\n",
    "print(f'Mean Squared Error (MSE): {mse_poly:}') "
   ]
  },
  {
   "cell_type": "markdown",
   "id": "5f92de80-6c07-49f3-97ee-8a51a7a7be15",
   "metadata": {},
   "source": [
    "## Ridge Regression"
   ]
  },
  {
   "cell_type": "code",
   "execution_count": null,
   "id": "e1e3b8ec-a9fe-4bab-93be-4a1786d0f697",
   "metadata": {},
   "outputs": [],
   "source": [
    "from sklearn.linear_model import Ridge\n",
    "\n",
    "model = Ridge(alpha=0.1)\n",
    "model.fit(X, y)\n",
    "y_pred = model.predict(X_test)\n",
    "mse_poly = mean_squared_error(y_test, y_pred)\n",
    "print(f'Mean Squared Error (MSE): {mse_poly:}') "
   ]
  },
  {
   "cell_type": "markdown",
   "id": "b29caeb9-46c6-4093-b532-379295b3addd",
   "metadata": {},
   "source": [
    "## Polynomial Regression"
   ]
  },
  {
   "cell_type": "code",
   "execution_count": null,
   "id": "028b7758-7a59-44b1-999b-8629c76141a3",
   "metadata": {},
   "outputs": [],
   "source": [
    "poly = PolynomialFeatures(degree=3)\n",
    "X_train_poly = poly.fit_transform(X_train)\n",
    "X_test_poly = poly.transform(X_test)\n",
    "\n",
    "poly_reg = LinearRegression()\n",
    "poly_reg.fit(X_train_poly, y_train)\n",
    "y_pred_poly = poly_reg.predict(X_test_poly)\n",
    "mse_poly = mean_squared_error(y_test, y_pred_poly)\n",
    "print(f'Mean Squared Error (MSE): {mse_poly:}') "
   ]
  },
  {
   "cell_type": "markdown",
   "id": "49dc9ea0-83c8-48ed-9273-efc7e567b612",
   "metadata": {},
   "source": [
    "## Linear Regression"
   ]
  },
  {
   "cell_type": "code",
   "execution_count": null,
   "id": "570cde8f-8ba7-424d-8b8a-14ce3b574403",
   "metadata": {},
   "outputs": [],
   "source": [
    "model = LinearRegression()\n",
    "model.fit(X_train, y_train)  "
   ]
  },
  {
   "cell_type": "code",
   "execution_count": null,
   "id": "d391512f-79c1-4d8a-ac45-6f750c42e9fa",
   "metadata": {},
   "outputs": [],
   "source": [
    "# Making Predictions  \n",
    "y_pred = model.predict(X_test)    \n",
    "\n",
    "# Calculate evaluation metrics  \n",
    "mae = mean_absolute_error(y_test, y_pred)  \n",
    "mse = mean_squared_error(y_test, y_pred)  \n",
    "r2 = r2_score(y_test, y_pred)  \n",
    "\n",
    "# Print the evaluation metrics  \n",
    "print(f'Mean Absolute Error (MAE): {mae:.2f}')  \n",
    "print(f'Mean Squared Error (MSE): {mse:.2f}')  \n",
    "print(f'R² Score: {r2:.2f}')"
   ]
  },
  {
   "cell_type": "markdown",
   "id": "c1f26920-8977-417b-a8be-bd0cf9910650",
   "metadata": {},
   "source": [
    "## Saving Results"
   ]
  },
  {
   "cell_type": "code",
   "execution_count": null,
   "id": "f554ab51-e1e4-46d8-ac3b-2483093faad1",
   "metadata": {},
   "outputs": [],
   "source": [
    "result_df = pd.DataFrame(y_pred)\n",
    "result_df"
   ]
  },
  {
   "cell_type": "code",
   "execution_count": null,
   "id": "a0beb4c6-4c81-467d-934e-efd08159fe4b",
   "metadata": {},
   "outputs": [],
   "source": [
    "id_series = pd.Series(id)\n",
    "result_df = pd.concat([id_series,result_df],axis = 1)\n",
    "result_df.rename(columns={0 : 'num_orders'}, inplace=True)"
   ]
  },
  {
   "cell_type": "code",
   "execution_count": null,
   "id": "1feec52c-3359-4765-8728-d9c4f7e8ac3b",
   "metadata": {},
   "outputs": [],
   "source": [
    "result_df = result_df.iloc[:,-1:2]"
   ]
  },
  {
   "cell_type": "code",
   "execution_count": null,
   "id": "4a5092d0-aa77-4bdc-a975-03e0da339759",
   "metadata": {},
   "outputs": [],
   "source": [
    "result_df"
   ]
  },
  {
   "cell_type": "code",
   "execution_count": null,
   "id": "08fa0cbb-8a04-437d-bf85-c680e2c075ce",
   "metadata": {},
   "outputs": [],
   "source": [
    "result_df.to_csv(\"C:\\\\Users\\\\madha\\\\Desktop\\\\submission file.csv\")"
   ]
  },
  {
   "cell_type": "code",
   "execution_count": null,
   "id": "515b37f2-f75d-4b33-894e-286d8ef092f3",
   "metadata": {},
   "outputs": [],
   "source": []
  }
 ],
 "metadata": {
  "kernelspec": {
   "display_name": "Python 3 (ipykernel)",
   "language": "python",
   "name": "python3"
  },
  "language_info": {
   "codemirror_mode": {
    "name": "ipython",
    "version": 3
   },
   "file_extension": ".py",
   "mimetype": "text/x-python",
   "name": "python",
   "nbconvert_exporter": "python",
   "pygments_lexer": "ipython3",
   "version": "3.12.7"
  }
 },
 "nbformat": 4,
 "nbformat_minor": 5
}
